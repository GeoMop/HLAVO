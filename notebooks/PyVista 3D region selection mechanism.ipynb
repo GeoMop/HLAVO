{
 "cells": [
  {
   "cell_type": "markdown",
   "id": "b10fb3a3",
   "metadata": {},
   "source": [
    "Dependencies:\n",
    "\n",
    "```\n",
    "pip install numpy pyvista itkwidgets\n",
    "```"
   ]
  },
  {
   "cell_type": "code",
   "execution_count": 2,
   "id": "d5247d8f",
   "metadata": {},
   "outputs": [
    {
     "name": "stdout",
     "output_type": "stream",
     "text": [
      "3.10.12 (main, Jun 11 2023, 05:26:28) [GCC 11.4.0]\n"
     ]
    }
   ],
   "source": [
    "import sys\n",
    "print(sys.version)"
   ]
  },
  {
   "cell_type": "code",
   "execution_count": 1,
   "id": "4d7dd68e",
   "metadata": {},
   "outputs": [
    {
     "ename": "ValueError",
     "evalue": "Invalid Jupyter notebook plotting backend \"trame\".\nUse one of the following:\n\"ipyvtklink\", \"panel\", \"ipygany\", \"static\", \"pythreejs\", \"none\"",
     "output_type": "error",
     "traceback": [
      "\u001b[0;31m---------------------------------------------------------------------------\u001b[0m",
      "\u001b[0;31mValueError\u001b[0m                                Traceback (most recent call last)",
      "\u001b[0;32m/tmp/ipykernel_514704/1128871588.py\u001b[0m in \u001b[0;36m<module>\u001b[0;34m\u001b[0m\n\u001b[1;32m      3\u001b[0m \u001b[0;34m\u001b[0m\u001b[0m\n\u001b[1;32m      4\u001b[0m \u001b[0;31m# Set Jupyter backend\u001b[0m\u001b[0;34m\u001b[0m\u001b[0;34m\u001b[0m\u001b[0m\n\u001b[0;32m----> 5\u001b[0;31m \u001b[0mpv\u001b[0m\u001b[0;34m.\u001b[0m\u001b[0mset_jupyter_backend\u001b[0m\u001b[0;34m(\u001b[0m\u001b[0;34m'trame'\u001b[0m\u001b[0;34m)\u001b[0m\u001b[0;34m\u001b[0m\u001b[0;34m\u001b[0m\u001b[0m\n\u001b[0m\u001b[1;32m      6\u001b[0m \u001b[0;34m\u001b[0m\u001b[0m\n\u001b[1;32m      7\u001b[0m \u001b[0;31m# Callback function to handle cell picking\u001b[0m\u001b[0;34m\u001b[0m\u001b[0;34m\u001b[0m\u001b[0m\n",
      "\u001b[0;32m~/.local/lib/python3.10/site-packages/pyvista/jupyter/__init__.py\u001b[0m in \u001b[0;36mset_jupyter_backend\u001b[0;34m(backend)\u001b[0m\n\u001b[1;32m    139\u001b[0m \u001b[0;34m\u001b[0m\u001b[0m\n\u001b[1;32m    140\u001b[0m     \"\"\"\n\u001b[0;32m--> 141\u001b[0;31m     \u001b[0mpyvista\u001b[0m\u001b[0;34m.\u001b[0m\u001b[0mglobal_theme\u001b[0m\u001b[0;34m.\u001b[0m\u001b[0m_jupyter_backend\u001b[0m \u001b[0;34m=\u001b[0m \u001b[0m_validate_jupyter_backend\u001b[0m\u001b[0;34m(\u001b[0m\u001b[0mbackend\u001b[0m\u001b[0;34m)\u001b[0m\u001b[0;34m\u001b[0m\u001b[0;34m\u001b[0m\u001b[0m\n\u001b[0m",
      "\u001b[0;32m~/.local/lib/python3.10/site-packages/pyvista/jupyter/__init__.py\u001b[0m in \u001b[0;36m_validate_jupyter_backend\u001b[0;34m(backend)\u001b[0m\n\u001b[1;32m     33\u001b[0m     \u001b[0;32mif\u001b[0m \u001b[0mbackend\u001b[0m \u001b[0;32mnot\u001b[0m \u001b[0;32min\u001b[0m \u001b[0mALLOWED_BACKENDS\u001b[0m\u001b[0;34m:\u001b[0m\u001b[0;34m\u001b[0m\u001b[0;34m\u001b[0m\u001b[0m\n\u001b[1;32m     34\u001b[0m         \u001b[0mbackend_list_str\u001b[0m \u001b[0;34m=\u001b[0m \u001b[0;34m', '\u001b[0m\u001b[0;34m.\u001b[0m\u001b[0mjoin\u001b[0m\u001b[0;34m(\u001b[0m\u001b[0;34m[\u001b[0m\u001b[0;34mf'\"{item}\"'\u001b[0m \u001b[0;32mfor\u001b[0m \u001b[0mitem\u001b[0m \u001b[0;32min\u001b[0m \u001b[0mALLOWED_BACKENDS\u001b[0m\u001b[0;34m]\u001b[0m\u001b[0;34m)\u001b[0m\u001b[0;34m\u001b[0m\u001b[0;34m\u001b[0m\u001b[0m\n\u001b[0;32m---> 35\u001b[0;31m         raise ValueError(\n\u001b[0m\u001b[1;32m     36\u001b[0m             \u001b[0;34mf'Invalid Jupyter notebook plotting backend \"{backend}\".\\n'\u001b[0m\u001b[0;34m\u001b[0m\u001b[0;34m\u001b[0m\u001b[0m\n\u001b[1;32m     37\u001b[0m             \u001b[0;34mf'Use one of the following:\\n{backend_list_str}'\u001b[0m\u001b[0;34m\u001b[0m\u001b[0;34m\u001b[0m\u001b[0m\n",
      "\u001b[0;31mValueError\u001b[0m: Invalid Jupyter notebook plotting backend \"trame\".\nUse one of the following:\n\"ipyvtklink\", \"panel\", \"ipygany\", \"static\", \"pythreejs\", \"none\""
     ]
    }
   ],
   "source": [
    "import pyvista as pv\n",
    "import numpy as np\n",
    "\n",
    "# Set Jupyter backend\n",
    "pv.set_jupyter_backend('trame')\n",
    "\n",
    "# Callback function to handle cell picking\n",
    "def cell_picking_callback(picker, event):\n",
    "    cell_id = picker.GetCellId()\n",
    "    if cell_id < 0:\n",
    "        return\n",
    "    print(f\"Cell picked with index: {cell_id}\")\n",
    "    print(f\"Cell value from CellArray: {cell_values[cell_id]}\")\n",
    "\n",
    "# Generate some example data\n",
    "mesh = pv.Sphere()\n",
    "\n",
    "# Create a CellArray with integer values for demonstration\n",
    "# Assuming the array is of the same length as the number of cells in the mesh\n",
    "cell_values = np.random.randint(0, 100, mesh.n_cells)  \n",
    "mesh.cell_arrays[\"cell_values\"] = cell_values\n",
    "\n",
    "# Create a plotter\n",
    "plotter = pv.Plotter()\n",
    "\n",
    "# Add the mesh\n",
    "plotter.add_mesh(mesh, scalars=\"cell_values\", show_scalar_bar=False)\n",
    "\n",
    "# Enable cell picking and attach the callback function\n",
    "plotter.enable_cell_picking(callback=cell_picking_callback, show_message=True)\n",
    "\n",
    "# Show the plot\n",
    "plotter.show()\n"
   ]
  }
 ],
 "metadata": {
  "kernelspec": {
   "display_name": "Python 3 (ipykernel)",
   "language": "python",
   "name": "python3"
  },
  "language_info": {
   "codemirror_mode": {
    "name": "ipython",
    "version": 3
   },
   "file_extension": ".py",
   "mimetype": "text/x-python",
   "name": "python",
   "nbconvert_exporter": "python",
   "pygments_lexer": "ipython3",
   "version": "3.10.12"
  }
 },
 "nbformat": 4,
 "nbformat_minor": 5
}
