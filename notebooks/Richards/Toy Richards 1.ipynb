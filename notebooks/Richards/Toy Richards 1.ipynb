{
 "cells": [
  {
   "cell_type": "code",
   "execution_count": 3,
   "id": "17528a1e-c903-45a4-96ad-5bd018b33e78",
   "metadata": {},
   "outputs": [
    {
     "name": "stdout",
     "output_type": "stream",
     "text": [
      "3.10.12 (main, Jun 11 2023, 05:26:28) [GCC 11.4.0]\n",
      "['/home/jb/workspace/HLAVO/notebooks/Richards', '/usr/lib/python310.zip', '/usr/lib/python3.10', '/usr/lib/python3.10/lib-dynload', '', '/home/jb/workspace/jupyter_notebooks/jupy-env/lib/python3.10/site-packages']\n"
     ]
    }
   ],
   "source": [
    "import sys\n",
    "print(sys.version)\n",
    "print(sys.path)"
   ]
  },
  {
   "cell_type": "code",
   "execution_count": 28,
   "id": "d6b5a803-0fab-4531-86d7-fb961e463017",
   "metadata": {},
   "outputs": [
    {
     "data": {
      "application/vnd.jupyter.widget-view+json": {
       "model_id": "d969593db8c04c92916255aaabe296c4",
       "version_major": 2,
       "version_minor": 0
      },
      "text/plain": [
       "  0%|          | 0/1 [00:00<?, ?it/s]"
      ]
     },
     "metadata": {},
     "output_type": "display_data"
    },
    {
     "name": "stderr",
     "output_type": "stream",
     "text": [
      "Implicit Euler step did not converge after 100 iterations at t=0 (error=1.28611e+22)\n"
     ]
    },
    {
     "ename": "ConvergenceError",
     "evalue": "Implicit Euler step did not converge.",
     "output_type": "error",
     "traceback": [
      "\u001b[0;31m---------------------------------------------------------------------------\u001b[0m",
      "\u001b[0;31mConvergenceError\u001b[0m                          Traceback (most recent call last)",
      "Cell \u001b[0;32mIn[28], line 73\u001b[0m\n\u001b[1;32m     66\u001b[0m eq \u001b[38;5;241m=\u001b[39m RichardsPDE(\n\u001b[1;32m     67\u001b[0m     hydraulic\u001b[38;5;241m=\u001b[39mmodel,\n\u001b[1;32m     68\u001b[0m     flux_top\u001b[38;5;241m=\u001b[39m\u001b[38;5;241m0.001\u001b[39m,\n\u001b[1;32m     69\u001b[0m     h_bot\u001b[38;5;241m=\u001b[39m\u001b[38;5;241m-\u001b[39m\u001b[38;5;241m1\u001b[39m\n\u001b[1;32m     70\u001b[0m     )\n\u001b[1;32m     72\u001b[0m storage \u001b[38;5;241m=\u001b[39m pde\u001b[38;5;241m.\u001b[39mMemoryStorage()\n\u001b[0;32m---> 73\u001b[0m result \u001b[38;5;241m=\u001b[39m \u001b[43meq\u001b[49m\u001b[38;5;241;43m.\u001b[39;49m\u001b[43msolve\u001b[49m\u001b[43m(\u001b[49m\u001b[43minit_state\u001b[49m\u001b[43m,\u001b[49m\u001b[43m \u001b[49m\u001b[43mt_range\u001b[49m\u001b[38;5;241;43m=\u001b[39;49m\u001b[43m(\u001b[49m\u001b[38;5;241;43m0\u001b[39;49m\u001b[43m,\u001b[49m\u001b[38;5;241;43m1\u001b[39;49m\u001b[43m)\u001b[49m\u001b[43m,\u001b[49m\u001b[43m \u001b[49m\u001b[43mdt\u001b[49m\u001b[38;5;241;43m=\u001b[39;49m\u001b[38;5;241;43m0.001\u001b[39;49m\u001b[43m,\u001b[49m\u001b[43m \u001b[49m\u001b[43mmethod\u001b[49m\u001b[38;5;241;43m=\u001b[39;49m\u001b[38;5;124;43m'\u001b[39;49m\u001b[38;5;124;43mimplicit\u001b[39;49m\u001b[38;5;124;43m'\u001b[39;49m\u001b[43m,\u001b[49m\u001b[43m \u001b[49m\u001b[43mtracker\u001b[49m\u001b[38;5;241;43m=\u001b[39;49m\u001b[43m[\u001b[49m\u001b[38;5;124;43m\"\u001b[39;49m\u001b[38;5;124;43mprogress\u001b[39;49m\u001b[38;5;124;43m\"\u001b[39;49m\u001b[43m,\u001b[49m\u001b[43m \u001b[49m\u001b[43mstorage\u001b[49m\u001b[38;5;241;43m.\u001b[39;49m\u001b[43mtracker\u001b[49m\u001b[43m(\u001b[49m\u001b[38;5;241;43m1\u001b[39;49m\u001b[43m)\u001b[49m\u001b[43m]\u001b[49m\u001b[43m)\u001b[49m\n\u001b[1;32m     74\u001b[0m pde\u001b[38;5;241m.\u001b[39mplot_kymograph(storage)\n",
      "File \u001b[0;32m~/workspace/jupyter_notebooks/jupy-env/lib/python3.10/site-packages/pde/pdes/base.py:608\u001b[0m, in \u001b[0;36mPDEBase.solve\u001b[0;34m(self, state, t_range, dt, tracker, solver, ret_info, **kwargs)\u001b[0m\n\u001b[1;32m    605\u001b[0m controller \u001b[38;5;241m=\u001b[39m Controller(solver_obj, t_range\u001b[38;5;241m=\u001b[39mt_range, tracker\u001b[38;5;241m=\u001b[39mtracker)\n\u001b[1;32m    607\u001b[0m \u001b[38;5;66;03m# run the simulation\u001b[39;00m\n\u001b[0;32m--> 608\u001b[0m final_state \u001b[38;5;241m=\u001b[39m \u001b[43mcontroller\u001b[49m\u001b[38;5;241;43m.\u001b[39;49m\u001b[43mrun\u001b[49m\u001b[43m(\u001b[49m\u001b[43mstate\u001b[49m\u001b[43m,\u001b[49m\u001b[43m \u001b[49m\u001b[43mdt\u001b[49m\u001b[43m)\u001b[49m\n\u001b[1;32m    610\u001b[0m \u001b[38;5;66;03m# copy diagnostic information to the PDE instance\u001b[39;00m\n\u001b[1;32m    611\u001b[0m \u001b[38;5;28;01mif\u001b[39;00m \u001b[38;5;28mhasattr\u001b[39m(\u001b[38;5;28mself\u001b[39m, \u001b[38;5;124m\"\u001b[39m\u001b[38;5;124mdiagnostics\u001b[39m\u001b[38;5;124m\"\u001b[39m):\n",
      "File \u001b[0;32m~/workspace/jupyter_notebooks/jupy-env/lib/python3.10/site-packages/pde/solvers/controller.py:326\u001b[0m, in \u001b[0;36mController.run\u001b[0;34m(self, initial_state, dt)\u001b[0m\n\u001b[1;32m    323\u001b[0m \u001b[38;5;66;03m# decide whether to call the main routine or whether this is an MPI client\u001b[39;00m\n\u001b[1;32m    324\u001b[0m \u001b[38;5;28;01mif\u001b[39;00m mpi\u001b[38;5;241m.\u001b[39mis_main:\n\u001b[1;32m    325\u001b[0m     \u001b[38;5;66;03m# this node is the primary one\u001b[39;00m\n\u001b[0;32m--> 326\u001b[0m     \u001b[38;5;28;43mself\u001b[39;49m\u001b[38;5;241;43m.\u001b[39;49m\u001b[43m_run_single\u001b[49m\u001b[43m(\u001b[49m\u001b[43mstate\u001b[49m\u001b[43m,\u001b[49m\u001b[43m \u001b[49m\u001b[43mdt\u001b[49m\u001b[43m)\u001b[49m\n\u001b[1;32m    327\u001b[0m     \u001b[38;5;28mself\u001b[39m\u001b[38;5;241m.\u001b[39minfo[\u001b[38;5;124m\"\u001b[39m\u001b[38;5;124mprocess_count\u001b[39m\u001b[38;5;124m\"\u001b[39m] \u001b[38;5;241m=\u001b[39m mpi\u001b[38;5;241m.\u001b[39msize\n\u001b[1;32m    328\u001b[0m \u001b[38;5;28;01melse\u001b[39;00m:\n\u001b[1;32m    329\u001b[0m     \u001b[38;5;66;03m# multiple processes are used and this is one of the secondaries\u001b[39;00m\n",
      "File \u001b[0;32m~/workspace/jupyter_notebooks/jupy-env/lib/python3.10/site-packages/pde/solvers/controller.py:206\u001b[0m, in \u001b[0;36mController._run_single\u001b[0;34m(self, state, dt)\u001b[0m\n\u001b[1;32m    203\u001b[0m profiler[\u001b[38;5;124m\"\u001b[39m\u001b[38;5;124mtracker\u001b[39m\u001b[38;5;124m\"\u001b[39m] \u001b[38;5;241m+\u001b[39m\u001b[38;5;241m=\u001b[39m prof_start_solve \u001b[38;5;241m-\u001b[39m prof_start_tracker\n\u001b[1;32m    205\u001b[0m \u001b[38;5;66;03m# advance the system to the new time point\u001b[39;00m\n\u001b[0;32m--> 206\u001b[0m t \u001b[38;5;241m=\u001b[39m \u001b[43mstepper\u001b[49m\u001b[43m(\u001b[49m\u001b[43mstate\u001b[49m\u001b[43m,\u001b[49m\u001b[43m \u001b[49m\u001b[43mt\u001b[49m\u001b[43m,\u001b[49m\u001b[43m \u001b[49m\u001b[43mt_break\u001b[49m\u001b[43m)\u001b[49m\n\u001b[1;32m    208\u001b[0m prof_start_tracker \u001b[38;5;241m=\u001b[39m get_time()\n\u001b[1;32m    209\u001b[0m profiler[\u001b[38;5;124m\"\u001b[39m\u001b[38;5;124msolver\u001b[39m\u001b[38;5;124m\"\u001b[39m] \u001b[38;5;241m+\u001b[39m\u001b[38;5;241m=\u001b[39m prof_start_tracker \u001b[38;5;241m-\u001b[39m prof_start_solve\n",
      "File \u001b[0;32m~/workspace/jupyter_notebooks/jupy-env/lib/python3.10/site-packages/pde/solvers/base.py:312\u001b[0m, in \u001b[0;36mSolverBase.make_stepper.<locals>.wrapped_stepper\u001b[0;34m(state, t_start, t_end)\u001b[0m\n\u001b[1;32m    310\u001b[0m \u001b[38;5;66;03m# calculate number of steps (which is at least 1)\u001b[39;00m\n\u001b[1;32m    311\u001b[0m steps \u001b[38;5;241m=\u001b[39m \u001b[38;5;28mmax\u001b[39m(\u001b[38;5;241m1\u001b[39m, \u001b[38;5;28mint\u001b[39m(np\u001b[38;5;241m.\u001b[39mceil((t_end \u001b[38;5;241m-\u001b[39m t_start) \u001b[38;5;241m/\u001b[39m dt_float)))\n\u001b[0;32m--> 312\u001b[0m t_last, modifications \u001b[38;5;241m=\u001b[39m \u001b[43mfixed_stepper\u001b[49m\u001b[43m(\u001b[49m\u001b[43mstate\u001b[49m\u001b[38;5;241;43m.\u001b[39;49m\u001b[43mdata\u001b[49m\u001b[43m,\u001b[49m\u001b[43m \u001b[49m\u001b[43mt_start\u001b[49m\u001b[43m,\u001b[49m\u001b[43m \u001b[49m\u001b[43msteps\u001b[49m\u001b[43m)\u001b[49m\n\u001b[1;32m    313\u001b[0m \u001b[38;5;28mself\u001b[39m\u001b[38;5;241m.\u001b[39minfo[\u001b[38;5;124m\"\u001b[39m\u001b[38;5;124msteps\u001b[39m\u001b[38;5;124m\"\u001b[39m] \u001b[38;5;241m+\u001b[39m\u001b[38;5;241m=\u001b[39m steps\n\u001b[1;32m    314\u001b[0m \u001b[38;5;28mself\u001b[39m\u001b[38;5;241m.\u001b[39minfo[\u001b[38;5;124m\"\u001b[39m\u001b[38;5;124mstate_modifications\u001b[39m\u001b[38;5;124m\"\u001b[39m] \u001b[38;5;241m+\u001b[39m\u001b[38;5;241m=\u001b[39m modifications\n",
      "File \u001b[0;32m~/workspace/jupyter_notebooks/jupy-env/lib/python3.10/site-packages/pde/solvers/base.py:258\u001b[0m, in \u001b[0;36mSolverBase._make_fixed_stepper.<locals>.fixed_stepper\u001b[0;34m(state_data, t_start, steps)\u001b[0m\n\u001b[1;32m    255\u001b[0m \u001b[38;5;28;01mfor\u001b[39;00m i \u001b[38;5;129;01min\u001b[39;00m \u001b[38;5;28mrange\u001b[39m(steps):\n\u001b[1;32m    256\u001b[0m     \u001b[38;5;66;03m# calculate the right hand side\u001b[39;00m\n\u001b[1;32m    257\u001b[0m     t \u001b[38;5;241m=\u001b[39m t_start \u001b[38;5;241m+\u001b[39m i \u001b[38;5;241m*\u001b[39m dt\n\u001b[0;32m--> 258\u001b[0m     \u001b[43msingle_step\u001b[49m\u001b[43m(\u001b[49m\u001b[43mstate_data\u001b[49m\u001b[43m,\u001b[49m\u001b[43m \u001b[49m\u001b[43mt\u001b[49m\u001b[43m)\u001b[49m\n\u001b[1;32m    259\u001b[0m     \u001b[38;5;28;01mif\u001b[39;00m modify_state_after_step:\n\u001b[1;32m    260\u001b[0m         modifications \u001b[38;5;241m+\u001b[39m\u001b[38;5;241m=\u001b[39m modify_after_step(state_data)\n",
      "File \u001b[0;32m~/workspace/jupyter_notebooks/jupy-env/lib/python3.10/site-packages/pde/solvers/implicit.py:113\u001b[0m, in \u001b[0;36mImplicitSolver._make_single_step_fixed_dt.<locals>.implicit_step\u001b[0;34m(state_data, t)\u001b[0m\n\u001b[1;32m    105\u001b[0m     \u001b[38;5;28;01mwith\u001b[39;00m nb\u001b[38;5;241m.\u001b[39mobjmode:\n\u001b[1;32m    106\u001b[0m         \u001b[38;5;28mself\u001b[39m\u001b[38;5;241m.\u001b[39m_logger\u001b[38;5;241m.\u001b[39mwarning(\n\u001b[1;32m    107\u001b[0m             \u001b[38;5;124m\"\u001b[39m\u001b[38;5;124mImplicit Euler step did not converge after \u001b[39m\u001b[38;5;132;01m%d\u001b[39;00m\u001b[38;5;124m iterations \u001b[39m\u001b[38;5;124m\"\u001b[39m\n\u001b[1;32m    108\u001b[0m             \u001b[38;5;124m\"\u001b[39m\u001b[38;5;124mat t=\u001b[39m\u001b[38;5;132;01m%g\u001b[39;00m\u001b[38;5;124m (error=\u001b[39m\u001b[38;5;132;01m%g\u001b[39;00m\u001b[38;5;124m)\u001b[39m\u001b[38;5;124m\"\u001b[39m,\n\u001b[0;32m   (...)\u001b[0m\n\u001b[1;32m    111\u001b[0m             err,\n\u001b[1;32m    112\u001b[0m         )\n\u001b[0;32m--> 113\u001b[0m     \u001b[38;5;28;01mraise\u001b[39;00m ConvergenceError(\u001b[38;5;124m\"\u001b[39m\u001b[38;5;124mImplicit Euler step did not converge.\u001b[39m\u001b[38;5;124m\"\u001b[39m)\n\u001b[1;32m    114\u001b[0m nfev \u001b[38;5;241m+\u001b[39m\u001b[38;5;241m=\u001b[39m n \u001b[38;5;241m+\u001b[39m \u001b[38;5;241m1\u001b[39m\n\u001b[1;32m    115\u001b[0m state_data \u001b[38;5;241m+\u001b[39m\u001b[38;5;241m=\u001b[39m evolution_this\n",
      "\u001b[0;31mConvergenceError\u001b[0m: Implicit Euler step did not converge."
     ]
    }
   ],
   "source": [
    "import pde\n",
    "import numpy as np\n",
    "import dataclasses\n",
    "\n",
    "@dataclasses.dataclass\n",
    "class Hydraulic:\n",
    "    th_s: float      # porosity\n",
    "    th_0: float      # residual water content\n",
    "    k_s: float       # saturated hydraulic permeability [m/s]\n",
    "    lmbd: float      # inverse of entry pressure head [1/m]\n",
    "\n",
    "    def kr_h(self, h):\n",
    "        H = np.minimum(0.0, h)\n",
    "        return np.exp(self.lmbd * H)\n",
    "\n",
    "    def mu_h(self, h):        \n",
    "        return np.where(h < 0.0,\n",
    "            np.exp(self.lmbd * h) / self.lmbd,\n",
    "            h / self.lmbd)     \n",
    "\n",
    "@dataclasses.dataclass\n",
    "class RichardsPDE(pde.PDEBase):\n",
    "    hydraulic: Hydraulic\n",
    "    flux_top: float  # boundary flux (positive = infiltration) [m/s]\n",
    "    h_bot: float     # bottom pressure head [m]\n",
    "    #relative saturation at bottom th = t_0 +(th_s - th_0) * th_r             \n",
    "\n",
    "    @property\n",
    "    def a(self):\n",
    "        m = self.hydraulic\n",
    "        return m.k_s/(m.th_s - m.th_0)/m.lmbd\n",
    "\n",
    "    @property\n",
    "    def b(self):\n",
    "        m = self.hydraulic\n",
    "        return m.k_s/(m.th_s - m.th_0)        \n",
    "\n",
    "    @property\n",
    "    def mu_bot(self):        \n",
    "        return self.hydraulic.mu_h(self.h_bot)\n",
    "\n",
    "\n",
    "    def evolution_rate(self, state, t=0):\n",
    "        #bc_top = {\"type\": \"mixed\", \n",
    "        #          \"value\": - self.hydraulic.lmbd,\n",
    "        #         \"const\": self.flux_top / self.hydraulic.k_s}   # d_z mu + \"value\" * mu = \"const\"\n",
    "        \n",
    "        bc_top = {\"value\": self.hydraulic.mu_h(-1)}\n",
    "        bc_bot = {\"value\": self.mu_bot}\n",
    "        bc = [bc_top, bc_bot]\n",
    "        grad_z = state.gradient(bc=bc)[0]\n",
    "        laplace_z = state.laplace(bc=bc)\n",
    "        return self.a * laplace_z #- self.b * grad_z\n",
    "\n",
    "    \n",
    "L = 1\n",
    "N = 100\n",
    "grid = pde.CartesianGrid([[0, L]], N)\n",
    "init_state = pde.ScalarField.from_expression(grid, \"-1\")\n",
    "model = Hydraulic(\n",
    "    th_s=0.3,\n",
    "    th_0=0,\n",
    "    k_s=0.01,\n",
    "    lmbd=1)    \n",
    "\n",
    "eq = RichardsPDE(\n",
    "    hydraulic=model,\n",
    "    flux_top=0.001,\n",
    "    h_bot=-1\n",
    "    )\n",
    "\n",
    "storage = pde.MemoryStorage()\n",
    "result = eq.solve(init_state, t_range=(0,1), dt=0.001, method='implicit', tracker=[\"progress\", storage.tracker(1)])\n",
    "pde.plot_kymograph(storage)\n"
   ]
  }
 ],
 "metadata": {
  "kernelspec": {
   "display_name": "Python 3 (ipykernel)",
   "language": "python",
   "name": "python3"
  },
  "language_info": {
   "codemirror_mode": {
    "name": "ipython",
    "version": 3
   },
   "file_extension": ".py",
   "mimetype": "text/x-python",
   "name": "python",
   "nbconvert_exporter": "python",
   "pygments_lexer": "ipython3",
   "version": "3.10.12"
  }
 },
 "nbformat": 4,
 "nbformat_minor": 5
}
